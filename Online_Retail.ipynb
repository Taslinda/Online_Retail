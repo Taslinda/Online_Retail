{
 "cells": [
  {
   "cell_type": "markdown",
   "id": "748f8a42",
   "metadata": {},
   "source": [
    "## Import Data"
   ]
  },
  {
   "cell_type": "code",
   "execution_count": 1,
   "id": "9b3c726e",
   "metadata": {},
   "outputs": [],
   "source": [
    "%matplotlib inline\n",
    "\n",
    "import matplotlib.pyplot as plt\n",
    "import pandas as pd"
   ]
  },
  {
   "cell_type": "code",
   "execution_count": 2,
   "id": "1f389dc5",
   "metadata": {},
   "outputs": [],
   "source": [
    "df = pd.read_excel(io='/Data Science/Online Retail/Data.xlsx')"
   ]
  },
  {
   "cell_type": "code",
   "execution_count": 3,
   "id": "2e2240a9",
   "metadata": {},
   "outputs": [
    {
     "data": {
      "text/plain": [
       "(525461, 8)"
      ]
     },
     "execution_count": 3,
     "metadata": {},
     "output_type": "execute_result"
    }
   ],
   "source": [
    "df.shape"
   ]
  },
  {
   "cell_type": "code",
   "execution_count": 4,
   "id": "8e560b9c",
   "metadata": {},
   "outputs": [
    {
     "data": {
      "text/html": [
       "<div>\n",
       "<style scoped>\n",
       "    .dataframe tbody tr th:only-of-type {\n",
       "        vertical-align: middle;\n",
       "    }\n",
       "\n",
       "    .dataframe tbody tr th {\n",
       "        vertical-align: top;\n",
       "    }\n",
       "\n",
       "    .dataframe thead th {\n",
       "        text-align: right;\n",
       "    }\n",
       "</style>\n",
       "<table border=\"1\" class=\"dataframe\">\n",
       "  <thead>\n",
       "    <tr style=\"text-align: right;\">\n",
       "      <th></th>\n",
       "      <th>Invoice</th>\n",
       "      <th>StockCode</th>\n",
       "      <th>Description</th>\n",
       "      <th>Quantity</th>\n",
       "      <th>InvoiceDate</th>\n",
       "      <th>Price</th>\n",
       "      <th>Customer ID</th>\n",
       "      <th>Country</th>\n",
       "    </tr>\n",
       "  </thead>\n",
       "  <tbody>\n",
       "    <tr>\n",
       "      <th>0</th>\n",
       "      <td>489434</td>\n",
       "      <td>85048</td>\n",
       "      <td>15CM CHRISTMAS GLASS BALL 20 LIGHTS</td>\n",
       "      <td>12</td>\n",
       "      <td>2009-12-01 07:45:00</td>\n",
       "      <td>6.95</td>\n",
       "      <td>13085.0</td>\n",
       "      <td>United Kingdom</td>\n",
       "    </tr>\n",
       "    <tr>\n",
       "      <th>1</th>\n",
       "      <td>489434</td>\n",
       "      <td>79323P</td>\n",
       "      <td>PINK CHERRY LIGHTS</td>\n",
       "      <td>12</td>\n",
       "      <td>2009-12-01 07:45:00</td>\n",
       "      <td>6.75</td>\n",
       "      <td>13085.0</td>\n",
       "      <td>United Kingdom</td>\n",
       "    </tr>\n",
       "    <tr>\n",
       "      <th>2</th>\n",
       "      <td>489434</td>\n",
       "      <td>79323W</td>\n",
       "      <td>WHITE CHERRY LIGHTS</td>\n",
       "      <td>12</td>\n",
       "      <td>2009-12-01 07:45:00</td>\n",
       "      <td>6.75</td>\n",
       "      <td>13085.0</td>\n",
       "      <td>United Kingdom</td>\n",
       "    </tr>\n",
       "    <tr>\n",
       "      <th>3</th>\n",
       "      <td>489434</td>\n",
       "      <td>22041</td>\n",
       "      <td>RECORD FRAME 7\" SINGLE SIZE</td>\n",
       "      <td>48</td>\n",
       "      <td>2009-12-01 07:45:00</td>\n",
       "      <td>2.10</td>\n",
       "      <td>13085.0</td>\n",
       "      <td>United Kingdom</td>\n",
       "    </tr>\n",
       "    <tr>\n",
       "      <th>4</th>\n",
       "      <td>489434</td>\n",
       "      <td>21232</td>\n",
       "      <td>STRAWBERRY CERAMIC TRINKET BOX</td>\n",
       "      <td>24</td>\n",
       "      <td>2009-12-01 07:45:00</td>\n",
       "      <td>1.25</td>\n",
       "      <td>13085.0</td>\n",
       "      <td>United Kingdom</td>\n",
       "    </tr>\n",
       "  </tbody>\n",
       "</table>\n",
       "</div>"
      ],
      "text/plain": [
       "  Invoice StockCode                          Description  Quantity  \\\n",
       "0  489434     85048  15CM CHRISTMAS GLASS BALL 20 LIGHTS        12   \n",
       "1  489434    79323P                   PINK CHERRY LIGHTS        12   \n",
       "2  489434    79323W                  WHITE CHERRY LIGHTS        12   \n",
       "3  489434     22041         RECORD FRAME 7\" SINGLE SIZE         48   \n",
       "4  489434     21232       STRAWBERRY CERAMIC TRINKET BOX        24   \n",
       "\n",
       "          InvoiceDate  Price  Customer ID         Country  \n",
       "0 2009-12-01 07:45:00   6.95      13085.0  United Kingdom  \n",
       "1 2009-12-01 07:45:00   6.75      13085.0  United Kingdom  \n",
       "2 2009-12-01 07:45:00   6.75      13085.0  United Kingdom  \n",
       "3 2009-12-01 07:45:00   2.10      13085.0  United Kingdom  \n",
       "4 2009-12-01 07:45:00   1.25      13085.0  United Kingdom  "
      ]
     },
     "execution_count": 4,
     "metadata": {},
     "output_type": "execute_result"
    }
   ],
   "source": [
    "df.head()"
   ]
  },
  {
   "cell_type": "markdown",
   "id": "4475944c",
   "metadata": {},
   "source": [
    "## Product Analitics"
   ]
  },
  {
   "cell_type": "markdown",
   "id": "13e39c70",
   "metadata": {},
   "source": [
    "### Quantity Distribution"
   ]
  },
  {
   "cell_type": "code",
   "execution_count": 5,
   "id": "1d6dca37",
   "metadata": {},
   "outputs": [
    {
     "data": {
      "image/png": "[encoded data removed]",
      "text/plain": [
       "<Figure size 720x504 with 1 Axes>"
      ]
     },
     "metadata": {
      "needs_background": "light"
     },
     "output_type": "display_data"
    }
   ],
   "source": [
    "# Melihat seberapa banyak produk terjual\n",
    "\n",
    "ax = df['Quantity'].plot.box(\n",
    "# showfilers=False,\n",
    "grid=True,\n",
    "figsize=(10, 7)\n",
    ")\n",
    "\n",
    "ax.set_ylabel('Order Quantity')\n",
    "ax.set_title('Quantity Distribution')\n",
    "\n",
    "plt.suptitle(\"\")\n",
    "plt.show()\n",
    "\n",
    "# produk yg terjual bisa dilihat dari range 0 keatas"
   ]
  },
  {
   "cell_type": "code",
   "execution_count": 6,
   "id": "2e57c630",
   "metadata": {},
   "outputs": [
    {
     "data": {
      "text/html": [
       "<div>\n",
       "<style scoped>\n",
       "    .dataframe tbody tr th:only-of-type {\n",
       "        vertical-align: middle;\n",
       "    }\n",
       "\n",
       "    .dataframe tbody tr th {\n",
       "        vertical-align: top;\n",
       "    }\n",
       "\n",
       "    .dataframe thead th {\n",
       "        text-align: right;\n",
       "    }\n",
       "</style>\n",
       "<table border=\"1\" class=\"dataframe\">\n",
       "  <thead>\n",
       "    <tr style=\"text-align: right;\">\n",
       "      <th></th>\n",
       "      <th>Quantity</th>\n",
       "    </tr>\n",
       "  </thead>\n",
       "  <tbody>\n",
       "    <tr>\n",
       "      <th>count</th>\n",
       "      <td>525461.000000</td>\n",
       "    </tr>\n",
       "    <tr>\n",
       "      <th>mean</th>\n",
       "      <td>10.337667</td>\n",
       "    </tr>\n",
       "    <tr>\n",
       "      <th>std</th>\n",
       "      <td>107.424110</td>\n",
       "    </tr>\n",
       "    <tr>\n",
       "      <th>min</th>\n",
       "      <td>-9600.000000</td>\n",
       "    </tr>\n",
       "    <tr>\n",
       "      <th>25%</th>\n",
       "      <td>1.000000</td>\n",
       "    </tr>\n",
       "    <tr>\n",
       "      <th>50%</th>\n",
       "      <td>3.000000</td>\n",
       "    </tr>\n",
       "    <tr>\n",
       "      <th>75%</th>\n",
       "      <td>10.000000</td>\n",
       "    </tr>\n",
       "    <tr>\n",
       "      <th>max</th>\n",
       "      <td>19152.000000</td>\n",
       "    </tr>\n",
       "  </tbody>\n",
       "</table>\n",
       "</div>"
      ],
      "text/plain": [
       "            Quantity\n",
       "count  525461.000000\n",
       "mean       10.337667\n",
       "std       107.424110\n",
       "min     -9600.000000\n",
       "25%         1.000000\n",
       "50%         3.000000\n",
       "75%        10.000000\n",
       "max     19152.000000"
      ]
     },
     "execution_count": 6,
     "metadata": {},
     "output_type": "execute_result"
    }
   ],
   "source": [
    "# melihat deskripsi keseluruhan data\n",
    "pd.DataFrame(df['Quantity'].describe())"
   ]
  },
  {
   "cell_type": "code",
   "execution_count": 7,
   "id": "8b95b7b3",
   "metadata": {},
   "outputs": [
    {
     "data": {
      "text/plain": [
       "(513135, 8)"
      ]
     },
     "execution_count": 7,
     "metadata": {},
     "output_type": "execute_result"
    }
   ],
   "source": [
    "# melihat banyaknya produk yang terjual atau quantitynya diatas nol\n",
    "df.loc[df['Quantity'] > 0].shape"
   ]
  },
  {
   "cell_type": "code",
   "execution_count": 8,
   "id": "be1cc888",
   "metadata": {},
   "outputs": [
    {
     "data": {
      "text/plain": [
       "(525461, 8)"
      ]
     },
     "execution_count": 8,
     "metadata": {},
     "output_type": "execute_result"
    }
   ],
   "source": [
    "df.shape"
   ]
  },
  {
   "cell_type": "code",
   "execution_count": 9,
   "id": "b498d37f",
   "metadata": {},
   "outputs": [],
   "source": [
    "# memfilter dan menyimpan data yg akan digunakan / menyimpan data yg nilai quantitynya diatas nol\n",
    "df = df.loc[df['Quantity'] > 0]"
   ]
  },
  {
   "cell_type": "markdown",
   "id": "bed6906f",
   "metadata": {},
   "source": [
    "## Time Series Number of Orders"
   ]
  },
  {
   "cell_type": "code",
   "execution_count": 10,
   "id": "7de6a0f7",
   "metadata": {},
   "outputs": [],
   "source": [
    "# melihat banyaknya produk yg terjual setiap bulannya\n",
    "monthly_orders_df = df.set_index('InvoiceDate')['Invoice'].resample('M').nunique()"
   ]
  },
  {
   "cell_type": "code",
   "execution_count": 11,
   "id": "6f7b81b6",
   "metadata": {},
   "outputs": [
    {
     "data": {
      "text/plain": [
       "InvoiceDate\n",
       "2009-12-31    1839\n",
       "2010-01-31    1205\n",
       "2010-02-28    1282\n",
       "2010-03-31    1770\n",
       "2010-04-30    1513\n",
       "2010-05-31    1642\n",
       "2010-06-30    1719\n",
       "2010-07-31    1585\n",
       "2010-08-31    1511\n",
       "2010-09-30    1911\n",
       "2010-10-31    2371\n",
       "2010-11-30    2868\n",
       "2010-12-31     888\n",
       "Freq: M, Name: Invoice, dtype: int64"
      ]
     },
     "execution_count": 11,
     "metadata": {},
     "output_type": "execute_result"
    }
   ],
   "source": [
    "monthly_orders_df"
   ]
  },
  {
   "cell_type": "code",
   "execution_count": 12,
   "id": "f497eb52",
   "metadata": {},
   "outputs": [
    {
     "data": {
      "image/png": "[encoded data removed]",
      "text/plain": [
       "<Figure size 720x504 with 1 Axes>"
      ]
     },
     "metadata": {
      "needs_background": "light"
     },
     "output_type": "display_data"
    }
   ],
   "source": [
    "# melihat total penjualan setiap bulan\n",
    "ax = pd.DataFrame(monthly_orders_df.values).plot(\n",
    "grid=True,\n",
    "figsize=(10, 7),\n",
    "    legend=False\n",
    ")\n",
    "\n",
    "ax.set_xlabel('date')\n",
    "ax.set_ylabel('number of orders/invoices')\n",
    "ax.set_title('Total Number of Orders Over Time')\n",
    "\n",
    "plt.xticks(\n",
    "range(len(monthly_orders_df))),\n",
    "[x.strftime('%m.%Y') for x in monthly_orders_df.index],\n",
    "rotation=45\n",
    "\n",
    "plt.show()"
   ]
  },
  {
   "cell_type": "code",
   "execution_count": 13,
   "id": "5da9765a",
   "metadata": {},
   "outputs": [],
   "source": [
    "invoice_dates = df.loc[\n",
    "    df['InvoiceDate'] >= '2010-12-01',\n",
    "    'InvoiceDate'\n",
    "]"
   ]
  },
  {
   "cell_type": "code",
   "execution_count": 14,
   "id": "3484f27b",
   "metadata": {},
   "outputs": [
    {
     "name": "stdout",
     "output_type": "stream",
     "text": [
      "Min date: 2010-12-01 08:26:00\n",
      "Max date: 2010-12-09 20:01:00\n"
     ]
    }
   ],
   "source": [
    "print('Min date: %s\\nMax date: %s' % (invoice_dates.min(), invoice_dates.max()))"
   ]
  },
  {
   "cell_type": "code",
   "execution_count": 15,
   "id": "731d215d",
   "metadata": {},
   "outputs": [],
   "source": [
    "df=df.loc[df['InvoiceDate'] < '2010-12-01']"
   ]
  },
  {
   "cell_type": "code",
   "execution_count": 16,
   "id": "2ffe19b9",
   "metadata": {},
   "outputs": [],
   "source": [
    "monthly_orders_df = df.set_index('InvoiceDate')['Invoice'].resample('M').nunique()"
   ]
  },
  {
   "cell_type": "code",
   "execution_count": 17,
   "id": "7b16c922",
   "metadata": {},
   "outputs": [
    {
     "data": {
      "text/plain": [
       "InvoiceDate\n",
       "2009-12-31    1839\n",
       "2010-01-31    1205\n",
       "2010-02-28    1282\n",
       "2010-03-31    1770\n",
       "2010-04-30    1513\n",
       "2010-05-31    1642\n",
       "2010-06-30    1719\n",
       "2010-07-31    1585\n",
       "2010-08-31    1511\n",
       "2010-09-30    1911\n",
       "2010-10-31    2371\n",
       "2010-11-30    2868\n",
       "Freq: M, Name: Invoice, dtype: int64"
      ]
     },
     "execution_count": 17,
     "metadata": {},
     "output_type": "execute_result"
    }
   ],
   "source": [
    "monthly_orders_df"
   ]
  },
  {
   "cell_type": "code",
   "execution_count": 18,
   "id": "1e98e97f",
   "metadata": {},
   "outputs": [
    {
     "data": {
      "image/png": "[encoded data removed]",
      "text/plain": [
       "<Figure size 720x504 with 1 Axes>"
      ]
     },
     "metadata": {
      "needs_background": "light"
     },
     "output_type": "display_data"
    }
   ],
   "source": [
    "ax = pd.DataFrame(monthly_orders_df.values).plot(\n",
    "grid=True,\n",
    "figsize=(10, 7),\n",
    "    legend=False\n",
    ")\n",
    "\n",
    "ax.set_xlabel('date')\n",
    "ax.set_ylabel('number of orders/invoices')\n",
    "ax.set_title('Total Number of Orders Over Time')\n",
    "\n",
    "plt.xticks(\n",
    "range(len(monthly_orders_df))),\n",
    "[x.strftime('%m.%Y') for x in monthly_orders_df.index],\n",
    "rotation=45\n",
    "\n",
    "plt.show()"
   ]
  },
  {
   "cell_type": "markdown",
   "id": "00766566",
   "metadata": {},
   "source": [
    "## Time Series Revenue"
   ]
  },
  {
   "cell_type": "code",
   "execution_count": 19,
   "id": "4bb36876",
   "metadata": {},
   "outputs": [],
   "source": [
    "df['Sales'] = df['Quantity'] * df['Price']"
   ]
  },
  {
   "cell_type": "code",
   "execution_count": 20,
   "id": "e9b79bca",
   "metadata": {},
   "outputs": [],
   "source": [
    "monthly_revenue_df = df.set_index('InvoiceDate')['Sales'].resample('M').sum()"
   ]
  },
  {
   "cell_type": "code",
   "execution_count": 21,
   "id": "9c5376aa",
   "metadata": {},
   "outputs": [
    {
     "data": {
      "text/plain": [
       "InvoiceDate\n",
       "2009-12-31     825685.760\n",
       "2010-01-31     652708.502\n",
       "2010-02-28     553713.306\n",
       "2010-03-31     833570.131\n",
       "2010-04-30     627934.632\n",
       "2010-05-31     659858.860\n",
       "2010-06-30     752270.140\n",
       "2010-07-31     606681.150\n",
       "2010-08-31     697274.910\n",
       "2010-09-30     924333.011\n",
       "2010-10-31    1126558.040\n",
       "2010-11-30    1470272.482\n",
       "Freq: M, Name: Sales, dtype: float64"
      ]
     },
     "execution_count": 21,
     "metadata": {},
     "output_type": "execute_result"
    }
   ],
   "source": [
    "monthly_revenue_df"
   ]
  },
  {
   "cell_type": "code",
   "execution_count": 22,
   "id": "d45b10d2",
   "metadata": {},
   "outputs": [
    {
     "data": {
      "image/png": "[encoded data removed]",
      "text/plain": [
       "<Figure size 720x504 with 1 Axes>"
      ]
     },
     "metadata": {
      "needs_background": "light"
     },
     "output_type": "display_data"
    }
   ],
   "source": [
    "# melihat banyaknya keuntungan penjualan setiap bulannya\n",
    "ax = pd.DataFrame(monthly_revenue_df.values).plot(\n",
    "grid=True,\n",
    "figsize=(10, 7),\n",
    "    legend=False\n",
    ")\n",
    "\n",
    "ax.set_xlabel('date')\n",
    "ax.set_ylabel('sales')\n",
    "ax.set_title('Total Revenue Over Time')\n",
    "\n",
    "ax.set_ylim([0, max(monthly_revenue_df.values)+100000])\n",
    "\n",
    "plt.xticks(\n",
    "range(len(monthly_revenue_df))),\n",
    "[x.strftime('%m.%Y') for x in monthly_revenue_df.index],\n",
    "rotation=45\n",
    "\n",
    "plt.show()"
   ]
  },
  {
   "cell_type": "markdown",
   "id": "3df7f55d",
   "metadata": {},
   "source": [
    "## Time Series Repeat Customers"
   ]
  },
  {
   "cell_type": "code",
   "execution_count": 23,
   "id": "74514df7",
   "metadata": {},
   "outputs": [
    {
     "data": {
      "text/html": [
       "<div>\n",
       "<style scoped>\n",
       "    .dataframe tbody tr th:only-of-type {\n",
       "        vertical-align: middle;\n",
       "    }\n",
       "\n",
       "    .dataframe tbody tr th {\n",
       "        vertical-align: top;\n",
       "    }\n",
       "\n",
       "    .dataframe thead th {\n",
       "        text-align: right;\n",
       "    }\n",
       "</style>\n",
       "<table border=\"1\" class=\"dataframe\">\n",
       "  <thead>\n",
       "    <tr style=\"text-align: right;\">\n",
       "      <th></th>\n",
       "      <th>Invoice</th>\n",
       "      <th>StockCode</th>\n",
       "      <th>Description</th>\n",
       "      <th>Quantity</th>\n",
       "      <th>InvoiceDate</th>\n",
       "      <th>Price</th>\n",
       "      <th>Customer ID</th>\n",
       "      <th>Country</th>\n",
       "      <th>Sales</th>\n",
       "    </tr>\n",
       "  </thead>\n",
       "  <tbody>\n",
       "    <tr>\n",
       "      <th>0</th>\n",
       "      <td>489434</td>\n",
       "      <td>85048</td>\n",
       "      <td>15CM CHRISTMAS GLASS BALL 20 LIGHTS</td>\n",
       "      <td>12</td>\n",
       "      <td>2009-12-01 07:45:00</td>\n",
       "      <td>6.95</td>\n",
       "      <td>13085.0</td>\n",
       "      <td>United Kingdom</td>\n",
       "      <td>83.4</td>\n",
       "    </tr>\n",
       "    <tr>\n",
       "      <th>1</th>\n",
       "      <td>489434</td>\n",
       "      <td>79323P</td>\n",
       "      <td>PINK CHERRY LIGHTS</td>\n",
       "      <td>12</td>\n",
       "      <td>2009-12-01 07:45:00</td>\n",
       "      <td>6.75</td>\n",
       "      <td>13085.0</td>\n",
       "      <td>United Kingdom</td>\n",
       "      <td>81.0</td>\n",
       "    </tr>\n",
       "    <tr>\n",
       "      <th>2</th>\n",
       "      <td>489434</td>\n",
       "      <td>79323W</td>\n",
       "      <td>WHITE CHERRY LIGHTS</td>\n",
       "      <td>12</td>\n",
       "      <td>2009-12-01 07:45:00</td>\n",
       "      <td>6.75</td>\n",
       "      <td>13085.0</td>\n",
       "      <td>United Kingdom</td>\n",
       "      <td>81.0</td>\n",
       "    </tr>\n",
       "    <tr>\n",
       "      <th>3</th>\n",
       "      <td>489434</td>\n",
       "      <td>22041</td>\n",
       "      <td>RECORD FRAME 7\" SINGLE SIZE</td>\n",
       "      <td>48</td>\n",
       "      <td>2009-12-01 07:45:00</td>\n",
       "      <td>2.10</td>\n",
       "      <td>13085.0</td>\n",
       "      <td>United Kingdom</td>\n",
       "      <td>100.8</td>\n",
       "    </tr>\n",
       "    <tr>\n",
       "      <th>4</th>\n",
       "      <td>489434</td>\n",
       "      <td>21232</td>\n",
       "      <td>STRAWBERRY CERAMIC TRINKET BOX</td>\n",
       "      <td>24</td>\n",
       "      <td>2009-12-01 07:45:00</td>\n",
       "      <td>1.25</td>\n",
       "      <td>13085.0</td>\n",
       "      <td>United Kingdom</td>\n",
       "      <td>30.0</td>\n",
       "    </tr>\n",
       "  </tbody>\n",
       "</table>\n",
       "</div>"
      ],
      "text/plain": [
       "  Invoice StockCode                          Description  Quantity  \\\n",
       "0  489434     85048  15CM CHRISTMAS GLASS BALL 20 LIGHTS        12   \n",
       "1  489434    79323P                   PINK CHERRY LIGHTS        12   \n",
       "2  489434    79323W                  WHITE CHERRY LIGHTS        12   \n",
       "3  489434     22041         RECORD FRAME 7\" SINGLE SIZE         48   \n",
       "4  489434     21232       STRAWBERRY CERAMIC TRINKET BOX        24   \n",
       "\n",
       "          InvoiceDate  Price  Customer ID         Country  Sales  \n",
       "0 2009-12-01 07:45:00   6.95      13085.0  United Kingdom   83.4  \n",
       "1 2009-12-01 07:45:00   6.75      13085.0  United Kingdom   81.0  \n",
       "2 2009-12-01 07:45:00   6.75      13085.0  United Kingdom   81.0  \n",
       "3 2009-12-01 07:45:00   2.10      13085.0  United Kingdom  100.8  \n",
       "4 2009-12-01 07:45:00   1.25      13085.0  United Kingdom   30.0  "
      ]
     },
     "execution_count": 23,
     "metadata": {},
     "output_type": "execute_result"
    }
   ],
   "source": [
    "df.head()"
   ]
  },
  {
   "cell_type": "code",
   "execution_count": 24,
   "id": "54e0df92",
   "metadata": {},
   "outputs": [],
   "source": [
    "invoice_customer_df = df.groupby(\n",
    "by=['Invoice', 'InvoiceDate']\n",
    ").agg({\n",
    "    'Sales' : sum,\n",
    "    'Customer ID' : max,\n",
    "    'Country' : max,\n",
    "}).reset_index()\n",
    "    "
   ]
  },
  {
   "cell_type": "code",
   "execution_count": 25,
   "id": "58ffe060",
   "metadata": {},
   "outputs": [
    {
     "data": {
      "text/html": [
       "<div>\n",
       "<style scoped>\n",
       "    .dataframe tbody tr th:only-of-type {\n",
       "        vertical-align: middle;\n",
       "    }\n",
       "\n",
       "    .dataframe tbody tr th {\n",
       "        vertical-align: top;\n",
       "    }\n",
       "\n",
       "    .dataframe thead th {\n",
       "        text-align: right;\n",
       "    }\n",
       "</style>\n",
       "<table border=\"1\" class=\"dataframe\">\n",
       "  <thead>\n",
       "    <tr style=\"text-align: right;\">\n",
       "      <th></th>\n",
       "      <th>Invoice</th>\n",
       "      <th>InvoiceDate</th>\n",
       "      <th>Sales</th>\n",
       "      <th>Customer ID</th>\n",
       "      <th>Country</th>\n",
       "    </tr>\n",
       "  </thead>\n",
       "  <tbody>\n",
       "    <tr>\n",
       "      <th>0</th>\n",
       "      <td>489434</td>\n",
       "      <td>2009-12-01 07:45:00</td>\n",
       "      <td>505.30</td>\n",
       "      <td>13085.0</td>\n",
       "      <td>United Kingdom</td>\n",
       "    </tr>\n",
       "    <tr>\n",
       "      <th>1</th>\n",
       "      <td>489435</td>\n",
       "      <td>2009-12-01 07:46:00</td>\n",
       "      <td>145.80</td>\n",
       "      <td>13085.0</td>\n",
       "      <td>United Kingdom</td>\n",
       "    </tr>\n",
       "    <tr>\n",
       "      <th>2</th>\n",
       "      <td>489436</td>\n",
       "      <td>2009-12-01 09:06:00</td>\n",
       "      <td>630.33</td>\n",
       "      <td>13078.0</td>\n",
       "      <td>United Kingdom</td>\n",
       "    </tr>\n",
       "    <tr>\n",
       "      <th>3</th>\n",
       "      <td>489437</td>\n",
       "      <td>2009-12-01 09:08:00</td>\n",
       "      <td>310.75</td>\n",
       "      <td>15362.0</td>\n",
       "      <td>United Kingdom</td>\n",
       "    </tr>\n",
       "    <tr>\n",
       "      <th>4</th>\n",
       "      <td>489438</td>\n",
       "      <td>2009-12-01 09:24:00</td>\n",
       "      <td>2286.24</td>\n",
       "      <td>18102.0</td>\n",
       "      <td>United Kingdom</td>\n",
       "    </tr>\n",
       "  </tbody>\n",
       "</table>\n",
       "</div>"
      ],
      "text/plain": [
       "  Invoice         InvoiceDate    Sales  Customer ID         Country\n",
       "0  489434 2009-12-01 07:45:00   505.30      13085.0  United Kingdom\n",
       "1  489435 2009-12-01 07:46:00   145.80      13085.0  United Kingdom\n",
       "2  489436 2009-12-01 09:06:00   630.33      13078.0  United Kingdom\n",
       "3  489437 2009-12-01 09:08:00   310.75      15362.0  United Kingdom\n",
       "4  489438 2009-12-01 09:24:00  2286.24      18102.0  United Kingdom"
      ]
     },
     "execution_count": 25,
     "metadata": {},
     "output_type": "execute_result"
    }
   ],
   "source": [
    "invoice_customer_df.head()"
   ]
  },
  {
   "cell_type": "code",
   "execution_count": 26,
   "id": "70fe1f29",
   "metadata": {},
   "outputs": [],
   "source": [
    "monthly_repeat_customers_df = invoice_customer_df.set_index('InvoiceDate').groupby([\n",
    "    pd.Grouper(freq='M'), 'Customer ID'\n",
    "]).filter(lambda x: len(x) > 1).resample('M').nunique()['Customer ID']"
   ]
  },
  {
   "cell_type": "code",
   "execution_count": 27,
   "id": "94bc2c2d",
   "metadata": {},
   "outputs": [
    {
     "data": {
      "text/plain": [
       "InvoiceDate\n",
       "2009-12-31    286\n",
       "2010-01-31    148\n",
       "2010-02-28    175\n",
       "2010-03-31    238\n",
       "2010-04-30    203\n",
       "2010-05-31    228\n",
       "2010-06-30    258\n",
       "2010-07-31    256\n",
       "2010-08-31    223\n",
       "2010-09-30    278\n",
       "2010-10-31    357\n",
       "2010-11-30    529\n",
       "Freq: M, Name: Customer ID, dtype: int64"
      ]
     },
     "execution_count": 27,
     "metadata": {},
     "output_type": "execute_result"
    }
   ],
   "source": [
    "monthly_repeat_customers_df"
   ]
  },
  {
   "cell_type": "code",
   "execution_count": 28,
   "id": "6af88859",
   "metadata": {},
   "outputs": [],
   "source": [
    "monthly_unique_customers_df = df.set_index('InvoiceDate')['Customer ID'].resample('M').nunique()"
   ]
  },
  {
   "cell_type": "code",
   "execution_count": 29,
   "id": "1535ad86",
   "metadata": {},
   "outputs": [
    {
     "data": {
      "text/plain": [
       "InvoiceDate\n",
       "2009-12-31     955\n",
       "2010-01-31     720\n",
       "2010-02-28     774\n",
       "2010-03-31    1057\n",
       "2010-04-30     942\n",
       "2010-05-31     966\n",
       "2010-06-30    1041\n",
       "2010-07-31     928\n",
       "2010-08-31     911\n",
       "2010-09-30    1145\n",
       "2010-10-31    1497\n",
       "2010-11-30    1607\n",
       "Freq: M, Name: Customer ID, dtype: int64"
      ]
     },
     "execution_count": 29,
     "metadata": {},
     "output_type": "execute_result"
    }
   ],
   "source": [
    "monthly_unique_customers_df"
   ]
  },
  {
   "cell_type": "code",
   "execution_count": 30,
   "id": "324d8d6a",
   "metadata": {},
   "outputs": [
    {
     "data": {
      "text/plain": [
       "InvoiceDate\n",
       "2009-12-31    29.947644\n",
       "2010-01-31    20.555556\n",
       "2010-02-28    22.609819\n",
       "2010-03-31    22.516556\n",
       "2010-04-30    21.549894\n",
       "2010-05-31    23.602484\n",
       "2010-06-30    24.783862\n",
       "2010-07-31    27.586207\n",
       "2010-08-31    24.478595\n",
       "2010-09-30    24.279476\n",
       "2010-10-31    23.847695\n",
       "2010-11-30    32.918482\n",
       "Freq: M, Name: Customer ID, dtype: float64"
      ]
     },
     "execution_count": 30,
     "metadata": {},
     "output_type": "execute_result"
    }
   ],
   "source": [
    "monthly_repeat_percentage = monthly_repeat_customers_df/monthly_unique_customers_df*100.0\n",
    "monthly_repeat_percentage"
   ]
  },
  {
   "cell_type": "code",
   "execution_count": 31,
   "id": "a9565659",
   "metadata": {},
   "outputs": [
    {
     "data": {
      "image/png": "[encoded data removed]",
      "text/plain": [
       "<Figure size 720x504 with 2 Axes>"
      ]
     },
     "metadata": {
      "needs_background": "light"
     },
     "output_type": "display_data"
    }
   ],
   "source": [
    "\n",
    "ax = pd.DataFrame(monthly_repeat_customers_df.values).plot(\n",
    "    figsize=(10, 7)\n",
    ")\n",
    "\n",
    "pd.DataFrame(monthly_unique_customers_df.values).plot(\n",
    "    ax=ax,\n",
    "    grid=True\n",
    ")\n",
    "\n",
    "ax2 = pd.DataFrame(monthly_repeat_percentage.values).plot.bar(\n",
    "    ax=ax,\n",
    "    grid=True,\n",
    "    secondary_y=True,\n",
    "    color='red',\n",
    "    alpha=0.2\n",
    ")\n",
    "\n",
    "ax.set_xlabel('date')\n",
    "ax.set_ylabel('number of customers')\n",
    "ax.set_title('Number of All vs Repeat Customers Over Time')\n",
    "    \n",
    "ax2.set_ylabel('percentage (%)')\n",
    "    \n",
    "ax.legend(['Repeat Customers', 'All Customers'])\n",
    "ax2.legend(['Percentage of Repeat'], loc='upper right')\n",
    "\n",
    "ax.set_ylim([0, monthly_unique_customers_df.values.max()+100])\n",
    "ax2.set_ylim([0, 100])\n",
    "   \n",
    "plt.xticks(\n",
    "    range(len(monthly_repeat_customers_df.index)),\n",
    "    [x.strftime('%m.%Y') for x in monthly_repeat_customers_df.index],\n",
    "    rotation=45\n",
    "\n",
    ")\n",
    "\n",
    "plt.show()   "
   ]
  },
  {
   "cell_type": "markdown",
   "id": "a616b7a1",
   "metadata": {},
   "source": [
    "## Popular Items Over Time"
   ]
  },
  {
   "cell_type": "code",
   "execution_count": 32,
   "id": "0623877f",
   "metadata": {},
   "outputs": [
    {
     "data": {
      "text/html": [
       "<div>\n",
       "<style scoped>\n",
       "    .dataframe tbody tr th:only-of-type {\n",
       "        vertical-align: middle;\n",
       "    }\n",
       "\n",
       "    .dataframe tbody tr th {\n",
       "        vertical-align: top;\n",
       "    }\n",
       "\n",
       "    .dataframe thead th {\n",
       "        text-align: right;\n",
       "    }\n",
       "</style>\n",
       "<table border=\"1\" class=\"dataframe\">\n",
       "  <thead>\n",
       "    <tr style=\"text-align: right;\">\n",
       "      <th></th>\n",
       "      <th></th>\n",
       "      <th>Quantity</th>\n",
       "    </tr>\n",
       "    <tr>\n",
       "      <th>InvoiceDate</th>\n",
       "      <th>StockCode</th>\n",
       "      <th></th>\n",
       "    </tr>\n",
       "  </thead>\n",
       "  <tbody>\n",
       "    <tr>\n",
       "      <th rowspan=\"5\" valign=\"top\">2009-12-31</th>\n",
       "      <th>10002</th>\n",
       "      <td>216</td>\n",
       "    </tr>\n",
       "    <tr>\n",
       "      <th>10080</th>\n",
       "      <td>4</td>\n",
       "    </tr>\n",
       "    <tr>\n",
       "      <th>10109</th>\n",
       "      <td>4</td>\n",
       "    </tr>\n",
       "    <tr>\n",
       "      <th>10120</th>\n",
       "      <td>115</td>\n",
       "    </tr>\n",
       "    <tr>\n",
       "      <th>10125</th>\n",
       "      <td>128</td>\n",
       "    </tr>\n",
       "    <tr>\n",
       "      <th>...</th>\n",
       "      <th>...</th>\n",
       "      <td>...</td>\n",
       "    </tr>\n",
       "    <tr>\n",
       "      <th rowspan=\"5\" valign=\"top\">2010-11-30</th>\n",
       "      <th>PADS</th>\n",
       "      <td>2</td>\n",
       "    </tr>\n",
       "    <tr>\n",
       "      <th>POST</th>\n",
       "      <td>966</td>\n",
       "    </tr>\n",
       "    <tr>\n",
       "      <th>gift_0001_10</th>\n",
       "      <td>1</td>\n",
       "    </tr>\n",
       "    <tr>\n",
       "      <th>gift_0001_20</th>\n",
       "      <td>1</td>\n",
       "    </tr>\n",
       "    <tr>\n",
       "      <th>gift_0001_30</th>\n",
       "      <td>1</td>\n",
       "    </tr>\n",
       "  </tbody>\n",
       "</table>\n",
       "<p>33214 rows × 1 columns</p>\n",
       "</div>"
      ],
      "text/plain": [
       "                          Quantity\n",
       "InvoiceDate StockCode             \n",
       "2009-12-31  10002              216\n",
       "            10080                4\n",
       "            10109                4\n",
       "            10120              115\n",
       "            10125              128\n",
       "...                            ...\n",
       "2010-11-30  PADS                 2\n",
       "            POST               966\n",
       "            gift_0001_10         1\n",
       "            gift_0001_20         1\n",
       "            gift_0001_30         1\n",
       "\n",
       "[33214 rows x 1 columns]"
      ]
     },
     "execution_count": 32,
     "metadata": {},
     "output_type": "execute_result"
    }
   ],
   "source": [
    "date_item_df = pd.DataFrame(\n",
    "    df.set_index('InvoiceDate').groupby([\n",
    "        pd.Grouper(freq='M'), 'StockCode'\n",
    "    ])['Quantity'].sum()\n",
    ")\n",
    "date_item_df"
   ]
  },
  {
   "cell_type": "code",
   "execution_count": 33,
   "id": "9658c0f4",
   "metadata": {},
   "outputs": [
    {
     "data": {
      "text/html": [
       "<div>\n",
       "<style scoped>\n",
       "    .dataframe tbody tr th:only-of-type {\n",
       "        vertical-align: middle;\n",
       "    }\n",
       "\n",
       "    .dataframe tbody tr th {\n",
       "        vertical-align: top;\n",
       "    }\n",
       "\n",
       "    .dataframe thead th {\n",
       "        text-align: right;\n",
       "    }\n",
       "</style>\n",
       "<table border=\"1\" class=\"dataframe\">\n",
       "  <thead>\n",
       "    <tr style=\"text-align: right;\">\n",
       "      <th></th>\n",
       "      <th>InvoiceDate</th>\n",
       "      <th>StockCode</th>\n",
       "      <th>Quantity</th>\n",
       "    </tr>\n",
       "  </thead>\n",
       "  <tbody>\n",
       "    <tr>\n",
       "      <th>0</th>\n",
       "      <td>2010-11-30</td>\n",
       "      <td>84347</td>\n",
       "      <td>12445</td>\n",
       "    </tr>\n",
       "    <tr>\n",
       "      <th>1</th>\n",
       "      <td>2010-11-30</td>\n",
       "      <td>17003</td>\n",
       "      <td>10643</td>\n",
       "    </tr>\n",
       "    <tr>\n",
       "      <th>2</th>\n",
       "      <td>2010-11-30</td>\n",
       "      <td>84077</td>\n",
       "      <td>9605</td>\n",
       "    </tr>\n",
       "    <tr>\n",
       "      <th>3</th>\n",
       "      <td>2010-11-30</td>\n",
       "      <td>84879</td>\n",
       "      <td>9287</td>\n",
       "    </tr>\n",
       "    <tr>\n",
       "      <th>4</th>\n",
       "      <td>2010-11-30</td>\n",
       "      <td>22197</td>\n",
       "      <td>9184</td>\n",
       "    </tr>\n",
       "    <tr>\n",
       "      <th>...</th>\n",
       "      <td>...</td>\n",
       "      <td>...</td>\n",
       "      <td>...</td>\n",
       "    </tr>\n",
       "    <tr>\n",
       "      <th>3035</th>\n",
       "      <td>2010-11-30</td>\n",
       "      <td>90059F</td>\n",
       "      <td>1</td>\n",
       "    </tr>\n",
       "    <tr>\n",
       "      <th>3036</th>\n",
       "      <td>2010-11-30</td>\n",
       "      <td>90060D</td>\n",
       "      <td>1</td>\n",
       "    </tr>\n",
       "    <tr>\n",
       "      <th>3037</th>\n",
       "      <td>2010-11-30</td>\n",
       "      <td>21924</td>\n",
       "      <td>1</td>\n",
       "    </tr>\n",
       "    <tr>\n",
       "      <th>3038</th>\n",
       "      <td>2010-11-30</td>\n",
       "      <td>47567b</td>\n",
       "      <td>1</td>\n",
       "    </tr>\n",
       "    <tr>\n",
       "      <th>3039</th>\n",
       "      <td>2010-11-30</td>\n",
       "      <td>gift_0001_30</td>\n",
       "      <td>1</td>\n",
       "    </tr>\n",
       "  </tbody>\n",
       "</table>\n",
       "<p>3040 rows × 3 columns</p>\n",
       "</div>"
      ],
      "text/plain": [
       "     InvoiceDate     StockCode  Quantity\n",
       "0     2010-11-30         84347     12445\n",
       "1     2010-11-30         17003     10643\n",
       "2     2010-11-30         84077      9605\n",
       "3     2010-11-30         84879      9287\n",
       "4     2010-11-30         22197      9184\n",
       "...          ...           ...       ...\n",
       "3035  2010-11-30        90059F         1\n",
       "3036  2010-11-30        90060D         1\n",
       "3037  2010-11-30         21924         1\n",
       "3038  2010-11-30        47567b         1\n",
       "3039  2010-11-30  gift_0001_30         1\n",
       "\n",
       "[3040 rows x 3 columns]"
      ]
     },
     "execution_count": 33,
     "metadata": {},
     "output_type": "execute_result"
    }
   ],
   "source": [
    "# Rank items by thee last month sales\n",
    "last_month_sorted_df = date_item_df.loc['2010-11-30'].sort_values(\n",
    "    by='Quantity', ascending=False\n",
    ").reset_index()\n",
    "\n",
    "last_month_sorted_df"
   ]
  },
  {
   "cell_type": "code",
   "execution_count": 37,
   "id": "ffd94f09",
   "metadata": {},
   "outputs": [
    {
     "data": {
      "text/html": [
       "<div>\n",
       "<style scoped>\n",
       "    .dataframe tbody tr th:only-of-type {\n",
       "        vertical-align: middle;\n",
       "    }\n",
       "\n",
       "    .dataframe tbody tr th {\n",
       "        vertical-align: top;\n",
       "    }\n",
       "\n",
       "    .dataframe thead th {\n",
       "        text-align: right;\n",
       "    }\n",
       "</style>\n",
       "<table border=\"1\" class=\"dataframe\">\n",
       "  <thead>\n",
       "    <tr style=\"text-align: right;\">\n",
       "      <th></th>\n",
       "      <th></th>\n",
       "      <th>Quantity</th>\n",
       "    </tr>\n",
       "    <tr>\n",
       "      <th>InvoiceDate</th>\n",
       "      <th>StockCode</th>\n",
       "      <th></th>\n",
       "    </tr>\n",
       "  </thead>\n",
       "  <tbody>\n",
       "    <tr>\n",
       "      <th rowspan=\"5\" valign=\"top\">2009-12-31</th>\n",
       "      <th>17003</th>\n",
       "      <td>801</td>\n",
       "    </tr>\n",
       "    <tr>\n",
       "      <th>22197</th>\n",
       "      <td>1929</td>\n",
       "    </tr>\n",
       "    <tr>\n",
       "      <th>84077</th>\n",
       "      <td>2703</td>\n",
       "    </tr>\n",
       "    <tr>\n",
       "      <th>84347</th>\n",
       "      <td>1987</td>\n",
       "    </tr>\n",
       "    <tr>\n",
       "      <th>84879</th>\n",
       "      <td>4642</td>\n",
       "    </tr>\n",
       "    <tr>\n",
       "      <th rowspan=\"5\" valign=\"top\">2010-01-31</th>\n",
       "      <th>17003</th>\n",
       "      <td>961</td>\n",
       "    </tr>\n",
       "    <tr>\n",
       "      <th>22197</th>\n",
       "      <td>737</td>\n",
       "    </tr>\n",
       "    <tr>\n",
       "      <th>84077</th>\n",
       "      <td>1443</td>\n",
       "    </tr>\n",
       "    <tr>\n",
       "      <th>84347</th>\n",
       "      <td>43</td>\n",
       "    </tr>\n",
       "    <tr>\n",
       "      <th>84879</th>\n",
       "      <td>1509</td>\n",
       "    </tr>\n",
       "    <tr>\n",
       "      <th rowspan=\"5\" valign=\"top\">2010-02-28</th>\n",
       "      <th>17003</th>\n",
       "      <td>1895</td>\n",
       "    </tr>\n",
       "    <tr>\n",
       "      <th>22197</th>\n",
       "      <td>1580</td>\n",
       "    </tr>\n",
       "    <tr>\n",
       "      <th>84077</th>\n",
       "      <td>2400</td>\n",
       "    </tr>\n",
       "    <tr>\n",
       "      <th>84347</th>\n",
       "      <td>3</td>\n",
       "    </tr>\n",
       "    <tr>\n",
       "      <th>84879</th>\n",
       "      <td>1667</td>\n",
       "    </tr>\n",
       "    <tr>\n",
       "      <th rowspan=\"5\" valign=\"top\">2010-03-31</th>\n",
       "      <th>17003</th>\n",
       "      <td>997</td>\n",
       "    </tr>\n",
       "    <tr>\n",
       "      <th>22197</th>\n",
       "      <td>1512</td>\n",
       "    </tr>\n",
       "    <tr>\n",
       "      <th>84077</th>\n",
       "      <td>4563</td>\n",
       "    </tr>\n",
       "    <tr>\n",
       "      <th>84347</th>\n",
       "      <td>4</td>\n",
       "    </tr>\n",
       "    <tr>\n",
       "      <th>84879</th>\n",
       "      <td>3341</td>\n",
       "    </tr>\n",
       "    <tr>\n",
       "      <th rowspan=\"5\" valign=\"top\">2010-04-30</th>\n",
       "      <th>17003</th>\n",
       "      <td>901</td>\n",
       "    </tr>\n",
       "    <tr>\n",
       "      <th>22197</th>\n",
       "      <td>1836</td>\n",
       "    </tr>\n",
       "    <tr>\n",
       "      <th>84077</th>\n",
       "      <td>3744</td>\n",
       "    </tr>\n",
       "    <tr>\n",
       "      <th>84347</th>\n",
       "      <td>6</td>\n",
       "    </tr>\n",
       "    <tr>\n",
       "      <th>84879</th>\n",
       "      <td>2793</td>\n",
       "    </tr>\n",
       "    <tr>\n",
       "      <th rowspan=\"4\" valign=\"top\">2010-05-31</th>\n",
       "      <th>17003</th>\n",
       "      <td>3970</td>\n",
       "    </tr>\n",
       "    <tr>\n",
       "      <th>22197</th>\n",
       "      <td>806</td>\n",
       "    </tr>\n",
       "    <tr>\n",
       "      <th>84077</th>\n",
       "      <td>3232</td>\n",
       "    </tr>\n",
       "    <tr>\n",
       "      <th>84879</th>\n",
       "      <td>2168</td>\n",
       "    </tr>\n",
       "    <tr>\n",
       "      <th rowspan=\"5\" valign=\"top\">2010-06-30</th>\n",
       "      <th>17003</th>\n",
       "      <td>3360</td>\n",
       "    </tr>\n",
       "    <tr>\n",
       "      <th>22197</th>\n",
       "      <td>1786</td>\n",
       "    </tr>\n",
       "    <tr>\n",
       "      <th>84077</th>\n",
       "      <td>5515</td>\n",
       "    </tr>\n",
       "    <tr>\n",
       "      <th>84347</th>\n",
       "      <td>3</td>\n",
       "    </tr>\n",
       "    <tr>\n",
       "      <th>84879</th>\n",
       "      <td>1862</td>\n",
       "    </tr>\n",
       "    <tr>\n",
       "      <th rowspan=\"5\" valign=\"top\">2010-07-31</th>\n",
       "      <th>17003</th>\n",
       "      <td>1191</td>\n",
       "    </tr>\n",
       "    <tr>\n",
       "      <th>22197</th>\n",
       "      <td>2146</td>\n",
       "    </tr>\n",
       "    <tr>\n",
       "      <th>84077</th>\n",
       "      <td>3015</td>\n",
       "    </tr>\n",
       "    <tr>\n",
       "      <th>84347</th>\n",
       "      <td>80</td>\n",
       "    </tr>\n",
       "    <tr>\n",
       "      <th>84879</th>\n",
       "      <td>3133</td>\n",
       "    </tr>\n",
       "    <tr>\n",
       "      <th rowspan=\"5\" valign=\"top\">2010-08-31</th>\n",
       "      <th>17003</th>\n",
       "      <td>1944</td>\n",
       "    </tr>\n",
       "    <tr>\n",
       "      <th>22197</th>\n",
       "      <td>2579</td>\n",
       "    </tr>\n",
       "    <tr>\n",
       "      <th>84077</th>\n",
       "      <td>5009</td>\n",
       "    </tr>\n",
       "    <tr>\n",
       "      <th>84347</th>\n",
       "      <td>173</td>\n",
       "    </tr>\n",
       "    <tr>\n",
       "      <th>84879</th>\n",
       "      <td>3171</td>\n",
       "    </tr>\n",
       "    <tr>\n",
       "      <th rowspan=\"5\" valign=\"top\">2010-09-30</th>\n",
       "      <th>17003</th>\n",
       "      <td>13931</td>\n",
       "    </tr>\n",
       "    <tr>\n",
       "      <th>22197</th>\n",
       "      <td>2890</td>\n",
       "    </tr>\n",
       "    <tr>\n",
       "      <th>84077</th>\n",
       "      <td>4587</td>\n",
       "    </tr>\n",
       "    <tr>\n",
       "      <th>84347</th>\n",
       "      <td>2692</td>\n",
       "    </tr>\n",
       "    <tr>\n",
       "      <th>84879</th>\n",
       "      <td>4273</td>\n",
       "    </tr>\n",
       "    <tr>\n",
       "      <th rowspan=\"5\" valign=\"top\">2010-10-31</th>\n",
       "      <th>17003</th>\n",
       "      <td>6765</td>\n",
       "    </tr>\n",
       "    <tr>\n",
       "      <th>22197</th>\n",
       "      <td>5125</td>\n",
       "    </tr>\n",
       "    <tr>\n",
       "      <th>84077</th>\n",
       "      <td>5627</td>\n",
       "    </tr>\n",
       "    <tr>\n",
       "      <th>84347</th>\n",
       "      <td>4634</td>\n",
       "    </tr>\n",
       "    <tr>\n",
       "      <th>84879</th>\n",
       "      <td>5994</td>\n",
       "    </tr>\n",
       "    <tr>\n",
       "      <th rowspan=\"5\" valign=\"top\">2010-11-30</th>\n",
       "      <th>17003</th>\n",
       "      <td>10643</td>\n",
       "    </tr>\n",
       "    <tr>\n",
       "      <th>22197</th>\n",
       "      <td>9184</td>\n",
       "    </tr>\n",
       "    <tr>\n",
       "      <th>84077</th>\n",
       "      <td>9605</td>\n",
       "    </tr>\n",
       "    <tr>\n",
       "      <th>84347</th>\n",
       "      <td>12445</td>\n",
       "    </tr>\n",
       "    <tr>\n",
       "      <th>84879</th>\n",
       "      <td>9287</td>\n",
       "    </tr>\n",
       "  </tbody>\n",
       "</table>\n",
       "</div>"
      ],
      "text/plain": [
       "                       Quantity\n",
       "InvoiceDate StockCode          \n",
       "2009-12-31  17003           801\n",
       "            22197          1929\n",
       "            84077          2703\n",
       "            84347          1987\n",
       "            84879          4642\n",
       "2010-01-31  17003           961\n",
       "            22197           737\n",
       "            84077          1443\n",
       "            84347            43\n",
       "            84879          1509\n",
       "2010-02-28  17003          1895\n",
       "            22197          1580\n",
       "            84077          2400\n",
       "            84347             3\n",
       "            84879          1667\n",
       "2010-03-31  17003           997\n",
       "            22197          1512\n",
       "            84077          4563\n",
       "            84347             4\n",
       "            84879          3341\n",
       "2010-04-30  17003           901\n",
       "            22197          1836\n",
       "            84077          3744\n",
       "            84347             6\n",
       "            84879          2793\n",
       "2010-05-31  17003          3970\n",
       "            22197           806\n",
       "            84077          3232\n",
       "            84879          2168\n",
       "2010-06-30  17003          3360\n",
       "            22197          1786\n",
       "            84077          5515\n",
       "            84347             3\n",
       "            84879          1862\n",
       "2010-07-31  17003          1191\n",
       "            22197          2146\n",
       "            84077          3015\n",
       "            84347            80\n",
       "            84879          3133\n",
       "2010-08-31  17003          1944\n",
       "            22197          2579\n",
       "            84077          5009\n",
       "            84347           173\n",
       "            84879          3171\n",
       "2010-09-30  17003         13931\n",
       "            22197          2890\n",
       "            84077          4587\n",
       "            84347          2692\n",
       "            84879          4273\n",
       "2010-10-31  17003          6765\n",
       "            22197          5125\n",
       "            84077          5627\n",
       "            84347          4634\n",
       "            84879          5994\n",
       "2010-11-30  17003         10643\n",
       "            22197          9184\n",
       "            84077          9605\n",
       "            84347         12445\n",
       "            84879          9287"
      ]
     },
     "execution_count": 37,
     "metadata": {},
     "output_type": "execute_result"
    }
   ],
   "source": [
    "# Regroup for top 5 items\n",
    "date_item_df = pd.DataFrame(\n",
    "    df.loc[\n",
    "        df['StockCode'].isin([84347, 17003, 84077, 84879, 22197])\n",
    "    ].set_index('InvoiceDate').groupby([\n",
    "        pd.Grouper(freq='M'), 'StockCode'\n",
    "    ])['Quantity'].sum()\n",
    ")\n",
    "date_item_df"
   ]
  },
  {
   "cell_type": "code",
   "execution_count": 38,
   "id": "107f87bf",
   "metadata": {},
   "outputs": [
    {
     "data": {
      "text/html": [
       "<div>\n",
       "<style scoped>\n",
       "    .dataframe tbody tr th:only-of-type {\n",
       "        vertical-align: middle;\n",
       "    }\n",
       "\n",
       "    .dataframe tbody tr th {\n",
       "        vertical-align: top;\n",
       "    }\n",
       "\n",
       "    .dataframe thead th {\n",
       "        text-align: right;\n",
       "    }\n",
       "</style>\n",
       "<table border=\"1\" class=\"dataframe\">\n",
       "  <thead>\n",
       "    <tr style=\"text-align: right;\">\n",
       "      <th>StockCode</th>\n",
       "      <th>17003</th>\n",
       "      <th>22197</th>\n",
       "      <th>84077</th>\n",
       "      <th>84347</th>\n",
       "      <th>84879</th>\n",
       "    </tr>\n",
       "    <tr>\n",
       "      <th>InvoiceDate</th>\n",
       "      <th></th>\n",
       "      <th></th>\n",
       "      <th></th>\n",
       "      <th></th>\n",
       "      <th></th>\n",
       "    </tr>\n",
       "  </thead>\n",
       "  <tbody>\n",
       "    <tr>\n",
       "      <th>2009-12-31</th>\n",
       "      <td>801.0</td>\n",
       "      <td>1929.0</td>\n",
       "      <td>2703.0</td>\n",
       "      <td>1987.0</td>\n",
       "      <td>4642.0</td>\n",
       "    </tr>\n",
       "    <tr>\n",
       "      <th>2010-01-31</th>\n",
       "      <td>961.0</td>\n",
       "      <td>737.0</td>\n",
       "      <td>1443.0</td>\n",
       "      <td>43.0</td>\n",
       "      <td>1509.0</td>\n",
       "    </tr>\n",
       "    <tr>\n",
       "      <th>2010-02-28</th>\n",
       "      <td>1895.0</td>\n",
       "      <td>1580.0</td>\n",
       "      <td>2400.0</td>\n",
       "      <td>3.0</td>\n",
       "      <td>1667.0</td>\n",
       "    </tr>\n",
       "    <tr>\n",
       "      <th>2010-03-31</th>\n",
       "      <td>997.0</td>\n",
       "      <td>1512.0</td>\n",
       "      <td>4563.0</td>\n",
       "      <td>4.0</td>\n",
       "      <td>3341.0</td>\n",
       "    </tr>\n",
       "    <tr>\n",
       "      <th>2010-04-30</th>\n",
       "      <td>901.0</td>\n",
       "      <td>1836.0</td>\n",
       "      <td>3744.0</td>\n",
       "      <td>6.0</td>\n",
       "      <td>2793.0</td>\n",
       "    </tr>\n",
       "    <tr>\n",
       "      <th>2010-05-31</th>\n",
       "      <td>3970.0</td>\n",
       "      <td>806.0</td>\n",
       "      <td>3232.0</td>\n",
       "      <td>0.0</td>\n",
       "      <td>2168.0</td>\n",
       "    </tr>\n",
       "    <tr>\n",
       "      <th>2010-06-30</th>\n",
       "      <td>3360.0</td>\n",
       "      <td>1786.0</td>\n",
       "      <td>5515.0</td>\n",
       "      <td>3.0</td>\n",
       "      <td>1862.0</td>\n",
       "    </tr>\n",
       "    <tr>\n",
       "      <th>2010-07-31</th>\n",
       "      <td>1191.0</td>\n",
       "      <td>2146.0</td>\n",
       "      <td>3015.0</td>\n",
       "      <td>80.0</td>\n",
       "      <td>3133.0</td>\n",
       "    </tr>\n",
       "    <tr>\n",
       "      <th>2010-08-31</th>\n",
       "      <td>1944.0</td>\n",
       "      <td>2579.0</td>\n",
       "      <td>5009.0</td>\n",
       "      <td>173.0</td>\n",
       "      <td>3171.0</td>\n",
       "    </tr>\n",
       "    <tr>\n",
       "      <th>2010-09-30</th>\n",
       "      <td>13931.0</td>\n",
       "      <td>2890.0</td>\n",
       "      <td>4587.0</td>\n",
       "      <td>2692.0</td>\n",
       "      <td>4273.0</td>\n",
       "    </tr>\n",
       "    <tr>\n",
       "      <th>2010-10-31</th>\n",
       "      <td>6765.0</td>\n",
       "      <td>5125.0</td>\n",
       "      <td>5627.0</td>\n",
       "      <td>4634.0</td>\n",
       "      <td>5994.0</td>\n",
       "    </tr>\n",
       "    <tr>\n",
       "      <th>2010-11-30</th>\n",
       "      <td>10643.0</td>\n",
       "      <td>9184.0</td>\n",
       "      <td>9605.0</td>\n",
       "      <td>12445.0</td>\n",
       "      <td>9287.0</td>\n",
       "    </tr>\n",
       "  </tbody>\n",
       "</table>\n",
       "</div>"
      ],
      "text/plain": [
       "StockCode      17003   22197   84077    84347   84879\n",
       "InvoiceDate                                          \n",
       "2009-12-31     801.0  1929.0  2703.0   1987.0  4642.0\n",
       "2010-01-31     961.0   737.0  1443.0     43.0  1509.0\n",
       "2010-02-28    1895.0  1580.0  2400.0      3.0  1667.0\n",
       "2010-03-31     997.0  1512.0  4563.0      4.0  3341.0\n",
       "2010-04-30     901.0  1836.0  3744.0      6.0  2793.0\n",
       "2010-05-31    3970.0   806.0  3232.0      0.0  2168.0\n",
       "2010-06-30    3360.0  1786.0  5515.0      3.0  1862.0\n",
       "2010-07-31    1191.0  2146.0  3015.0     80.0  3133.0\n",
       "2010-08-31    1944.0  2579.0  5009.0    173.0  3171.0\n",
       "2010-09-30   13931.0  2890.0  4587.0   2692.0  4273.0\n",
       "2010-10-31    6765.0  5125.0  5627.0   4634.0  5994.0\n",
       "2010-11-30   10643.0  9184.0  9605.0  12445.0  9287.0"
      ]
     },
     "execution_count": 38,
     "metadata": {},
     "output_type": "execute_result"
    }
   ],
   "source": [
    "trending_items_df = date_item_df.reset_index().pivot('InvoiceDate', 'StockCode').fillna(0)\n",
    "\n",
    "trending_items_df = trending_items_df.reset_index()\n",
    "trending_items_df = trending_items_df.set_index('InvoiceDate')\n",
    "trending_items_df.columns = trending_items_df.columns.droplevel(0)\n",
    "\n",
    "trending_items_df"
   ]
  },
  {
   "cell_type": "code",
   "execution_count": 39,
   "id": "de1b8aeb",
   "metadata": {},
   "outputs": [
    {
     "data": {
      "image/png": "[encoded data removed]",
      "text/plain": [
       "<Figure size 720x504 with 1 Axes>"
      ]
     },
     "metadata": {
      "needs_background": "light"
     },
     "output_type": "display_data"
    }
   ],
   "source": [
    "# melihat produk yang memungkinkan untuk meningkatkan penjualan pada bulan berikutnya\n",
    "ax = pd.DataFrame(trending_items_df.values).plot(\n",
    "    grid=True,\n",
    "    figsize=(10, 7),\n",
    ")\n",
    "\n",
    "ax.set_xlabel('date')\n",
    "ax.set_ylabel('number of purchases')\n",
    "ax.set_title('Item Trends Over Time')\n",
    "\n",
    "ax.legend(trending_items_df.columns, loc='upper left')\n",
    "\n",
    "plt.xticks(\n",
    "    range(len(trending_items_df.index)),\n",
    "    [x.strftime('%m.%Y') for x in trending_items_df.index],\n",
    "    rotation=45\n",
    ")\n",
    "\n",
    "plt.show()"
   ]
  }
 ],
 "metadata": {
  "kernelspec": {
   "display_name": "Python 3 (ipykernel)",
   "language": "python",
   "name": "python3"
  },
  "language_info": {
   "codemirror_mode": {
    "name": "ipython",
    "version": 3
   },
   "file_extension": ".py",
   "mimetype": "text/x-python",
   "name": "python",
   "nbconvert_exporter": "python",
   "pygments_lexer": "ipython3",
   "version": "3.7.13"
  }
 },
 "nbformat": 4,
 "nbformat_minor": 5
}
