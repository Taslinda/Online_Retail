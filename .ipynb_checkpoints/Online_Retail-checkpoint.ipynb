{
 "cells": [
  {
   "cell_type": "code",
   "execution_count": 1,
   "id": "9b3c726e",
   "metadata": {},
   "outputs": [],
   "source": [
    "%matplotlib inline\n",
    "\n",
    "import matplotlib.pyplot as plt\n",
    "import pandas as pd"
   ]
  },
  {
   "cell_type": "code",
   "execution_count": null,
   "id": "1f389dc5",
   "metadata": {},
   "outputs": [],
   "source": [
    "df = pd.read_excel(io='/Data.xlsx', sheet_name='Online Retail')"
   ]
  },
  {
   "cell_type": "code",
   "execution_count": null,
   "id": "6847f76e",
   "metadata": {},
   "outputs": [],
   "source": [
    "df.sha"
   ]
  },
  {
   "cell_type": "code",
   "execution_count": null,
   "id": "1152f0b8",
   "metadata": {},
   "outputs": [],
   "source": []
  }
 ],
 "metadata": {
  "kernelspec": {
   "display_name": "Python 3 (ipykernel)",
   "language": "python",
   "name": "python3"
  },
  "language_info": {
   "codemirror_mode": {
    "name": "ipython",
    "version": 3
   },
   "file_extension": ".py",
   "mimetype": "text/x-python",
   "name": "python",
   "nbconvert_exporter": "python",
   "pygments_lexer": "ipython3",
   "version": "3.7.13"
  }
 },
 "nbformat": 4,
 "nbformat_minor": 5
}
